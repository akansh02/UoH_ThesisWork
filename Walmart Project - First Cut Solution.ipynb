{
 "cells": [
  {
   "cell_type": "code",
   "execution_count": 7,
   "id": "cc53c413",
   "metadata": {},
   "outputs": [],
   "source": [
    "import pandas as pd\n",
    "import numpy as np\n",
    "import matplotlib.pyplot as plt\n",
    "import plotly.express as px\n",
    "from tqdm import tqdm\n",
    "from prettytable import PrettyTable\n",
    "\n",
    "from downcast import reduce\n",
    "import warnings\n",
    "warnings.filterwarnings(\"ignore\")\n",
    "\n",
    "from sklearn import linear_model\n",
    "from sklearn.preprocessing import StandardScaler\n",
    "from sklearn.linear_model import LinearRegression\n",
    "from sklearn.tree import DecisionTreeRegressor\n",
    "from sklearn.ensemble import RandomForestRegressor\n",
    "from lightgbm import LGBMRegressor\n",
    "\n",
    "import os\n",
    "os.chdir(\"C:\\\\Users\\\\91958\\\\Desktop\\\\Datasets\\\\Wallmart Dataset\")"
   ]
  },
  {
   "cell_type": "code",
   "execution_count": 8,
   "id": "57f290e9",
   "metadata": {},
   "outputs": [],
   "source": [
    "final = pd.read_pickle('final_Encoded.pkl')"
   ]
  },
  {
   "cell_type": "code",
   "execution_count": 9,
   "id": "3d4ec17d",
   "metadata": {},
   "outputs": [
    {
     "data": {
      "text/html": [
       "<div>\n",
       "<style scoped>\n",
       "    .dataframe tbody tr th:only-of-type {\n",
       "        vertical-align: middle;\n",
       "    }\n",
       "\n",
       "    .dataframe tbody tr th {\n",
       "        vertical-align: top;\n",
       "    }\n",
       "\n",
       "    .dataframe thead th {\n",
       "        text-align: right;\n",
       "    }\n",
       "</style>\n",
       "<table border=\"1\" class=\"dataframe\">\n",
       "  <thead>\n",
       "    <tr style=\"text-align: right;\">\n",
       "      <th></th>\n",
       "      <th>id</th>\n",
       "      <th>item_id</th>\n",
       "      <th>dept_id</th>\n",
       "      <th>cat_id</th>\n",
       "      <th>store_id</th>\n",
       "      <th>state_id</th>\n",
       "      <th>d</th>\n",
       "      <th>quantity sold</th>\n",
       "      <th>date</th>\n",
       "      <th>wm_yr_wk</th>\n",
       "      <th>...</th>\n",
       "      <th>id_label</th>\n",
       "      <th>item_id_label</th>\n",
       "      <th>dept_id_label</th>\n",
       "      <th>cat_id_label</th>\n",
       "      <th>store_id_label</th>\n",
       "      <th>state_id_label</th>\n",
       "      <th>event_name_1_label</th>\n",
       "      <th>event_type_1_label</th>\n",
       "      <th>event_name_2_label</th>\n",
       "      <th>event_type_2_label</th>\n",
       "    </tr>\n",
       "  </thead>\n",
       "  <tbody>\n",
       "    <tr>\n",
       "      <th>0</th>\n",
       "      <td>HOBBIES_1_001_CA_1_evaluation</td>\n",
       "      <td>HOBBIES_1_001</td>\n",
       "      <td>HOBBIES_1</td>\n",
       "      <td>HOBBIES</td>\n",
       "      <td>CA_1</td>\n",
       "      <td>CA</td>\n",
       "      <td>d_1400</td>\n",
       "      <td>0</td>\n",
       "      <td>2014-11-28</td>\n",
       "      <td>11443</td>\n",
       "      <td>...</td>\n",
       "      <td>14370</td>\n",
       "      <td>1437</td>\n",
       "      <td>3</td>\n",
       "      <td>1</td>\n",
       "      <td>0</td>\n",
       "      <td>0</td>\n",
       "      <td>30</td>\n",
       "      <td>4</td>\n",
       "      <td>0</td>\n",
       "      <td>0</td>\n",
       "    </tr>\n",
       "    <tr>\n",
       "      <th>1</th>\n",
       "      <td>HOBBIES_1_002_CA_1_evaluation</td>\n",
       "      <td>HOBBIES_1_002</td>\n",
       "      <td>HOBBIES_1</td>\n",
       "      <td>HOBBIES</td>\n",
       "      <td>CA_1</td>\n",
       "      <td>CA</td>\n",
       "      <td>d_1400</td>\n",
       "      <td>0</td>\n",
       "      <td>2014-11-28</td>\n",
       "      <td>11443</td>\n",
       "      <td>...</td>\n",
       "      <td>14380</td>\n",
       "      <td>1438</td>\n",
       "      <td>3</td>\n",
       "      <td>1</td>\n",
       "      <td>0</td>\n",
       "      <td>0</td>\n",
       "      <td>30</td>\n",
       "      <td>4</td>\n",
       "      <td>0</td>\n",
       "      <td>0</td>\n",
       "    </tr>\n",
       "  </tbody>\n",
       "</table>\n",
       "<p>2 rows × 36 columns</p>\n",
       "</div>"
      ],
      "text/plain": [
       "                              id        item_id    dept_id   cat_id store_id  \\\n",
       "0  HOBBIES_1_001_CA_1_evaluation  HOBBIES_1_001  HOBBIES_1  HOBBIES     CA_1   \n",
       "1  HOBBIES_1_002_CA_1_evaluation  HOBBIES_1_002  HOBBIES_1  HOBBIES     CA_1   \n",
       "\n",
       "  state_id       d  quantity sold       date  wm_yr_wk  ... id_label  \\\n",
       "0       CA  d_1400              0 2014-11-28     11443  ...    14370   \n",
       "1       CA  d_1400              0 2014-11-28     11443  ...    14380   \n",
       "\n",
       "   item_id_label  dept_id_label  cat_id_label store_id_label state_id_label  \\\n",
       "0           1437              3             1              0              0   \n",
       "1           1438              3             1              0              0   \n",
       "\n",
       "  event_name_1_label event_type_1_label  event_name_2_label  \\\n",
       "0                 30                  4                   0   \n",
       "1                 30                  4                   0   \n",
       "\n",
       "   event_type_2_label  \n",
       "0                   0  \n",
       "1                   0  \n",
       "\n",
       "[2 rows x 36 columns]"
      ]
     },
     "execution_count": 9,
     "metadata": {},
     "output_type": "execute_result"
    }
   ],
   "source": [
    "final.head(2)"
   ]
  },
  {
   "cell_type": "code",
   "execution_count": 10,
   "id": "1313ce20",
   "metadata": {},
   "outputs": [],
   "source": [
    "final = final.reset_index(drop=True)"
   ]
  },
  {
   "cell_type": "code",
   "execution_count": 11,
   "id": "b7c5e020",
   "metadata": {},
   "outputs": [
    {
     "data": {
      "text/html": [
       "<div>\n",
       "<style scoped>\n",
       "    .dataframe tbody tr th:only-of-type {\n",
       "        vertical-align: middle;\n",
       "    }\n",
       "\n",
       "    .dataframe tbody tr th {\n",
       "        vertical-align: top;\n",
       "    }\n",
       "\n",
       "    .dataframe thead th {\n",
       "        text-align: right;\n",
       "    }\n",
       "</style>\n",
       "<table border=\"1\" class=\"dataframe\">\n",
       "  <thead>\n",
       "    <tr style=\"text-align: right;\">\n",
       "      <th></th>\n",
       "      <th>id</th>\n",
       "      <th>item_id</th>\n",
       "      <th>dept_id</th>\n",
       "      <th>cat_id</th>\n",
       "      <th>store_id</th>\n",
       "      <th>state_id</th>\n",
       "      <th>d</th>\n",
       "      <th>quantity sold</th>\n",
       "      <th>date</th>\n",
       "      <th>wm_yr_wk</th>\n",
       "      <th>...</th>\n",
       "      <th>id_label</th>\n",
       "      <th>item_id_label</th>\n",
       "      <th>dept_id_label</th>\n",
       "      <th>cat_id_label</th>\n",
       "      <th>store_id_label</th>\n",
       "      <th>state_id_label</th>\n",
       "      <th>event_name_1_label</th>\n",
       "      <th>event_type_1_label</th>\n",
       "      <th>event_name_2_label</th>\n",
       "      <th>event_type_2_label</th>\n",
       "    </tr>\n",
       "  </thead>\n",
       "  <tbody>\n",
       "    <tr>\n",
       "      <th>0</th>\n",
       "      <td>HOBBIES_1_001_CA_1_evaluation</td>\n",
       "      <td>HOBBIES_1_001</td>\n",
       "      <td>HOBBIES_1</td>\n",
       "      <td>HOBBIES</td>\n",
       "      <td>CA_1</td>\n",
       "      <td>CA</td>\n",
       "      <td>d_1400</td>\n",
       "      <td>0</td>\n",
       "      <td>2014-11-28</td>\n",
       "      <td>11443</td>\n",
       "      <td>...</td>\n",
       "      <td>14370</td>\n",
       "      <td>1437</td>\n",
       "      <td>3</td>\n",
       "      <td>1</td>\n",
       "      <td>0</td>\n",
       "      <td>0</td>\n",
       "      <td>30</td>\n",
       "      <td>4</td>\n",
       "      <td>0</td>\n",
       "      <td>0</td>\n",
       "    </tr>\n",
       "    <tr>\n",
       "      <th>1</th>\n",
       "      <td>HOBBIES_1_002_CA_1_evaluation</td>\n",
       "      <td>HOBBIES_1_002</td>\n",
       "      <td>HOBBIES_1</td>\n",
       "      <td>HOBBIES</td>\n",
       "      <td>CA_1</td>\n",
       "      <td>CA</td>\n",
       "      <td>d_1400</td>\n",
       "      <td>0</td>\n",
       "      <td>2014-11-28</td>\n",
       "      <td>11443</td>\n",
       "      <td>...</td>\n",
       "      <td>14380</td>\n",
       "      <td>1438</td>\n",
       "      <td>3</td>\n",
       "      <td>1</td>\n",
       "      <td>0</td>\n",
       "      <td>0</td>\n",
       "      <td>30</td>\n",
       "      <td>4</td>\n",
       "      <td>0</td>\n",
       "      <td>0</td>\n",
       "    </tr>\n",
       "  </tbody>\n",
       "</table>\n",
       "<p>2 rows × 36 columns</p>\n",
       "</div>"
      ],
      "text/plain": [
       "                              id        item_id    dept_id   cat_id store_id  \\\n",
       "0  HOBBIES_1_001_CA_1_evaluation  HOBBIES_1_001  HOBBIES_1  HOBBIES     CA_1   \n",
       "1  HOBBIES_1_002_CA_1_evaluation  HOBBIES_1_002  HOBBIES_1  HOBBIES     CA_1   \n",
       "\n",
       "  state_id       d  quantity sold       date  wm_yr_wk  ... id_label  \\\n",
       "0       CA  d_1400              0 2014-11-28     11443  ...    14370   \n",
       "1       CA  d_1400              0 2014-11-28     11443  ...    14380   \n",
       "\n",
       "   item_id_label  dept_id_label  cat_id_label store_id_label state_id_label  \\\n",
       "0           1437              3             1              0              0   \n",
       "1           1438              3             1              0              0   \n",
       "\n",
       "  event_name_1_label event_type_1_label  event_name_2_label  \\\n",
       "0                 30                  4                   0   \n",
       "1                 30                  4                   0   \n",
       "\n",
       "   event_type_2_label  \n",
       "0                   0  \n",
       "1                   0  \n",
       "\n",
       "[2 rows x 36 columns]"
      ]
     },
     "execution_count": 11,
     "metadata": {},
     "output_type": "execute_result"
    }
   ],
   "source": [
    "final.head(2)"
   ]
  },
  {
   "cell_type": "code",
   "execution_count": 12,
   "id": "3b2589bc",
   "metadata": {},
   "outputs": [
    {
     "data": {
      "text/plain": [
       "Index(['id', 'item_id', 'dept_id', 'cat_id', 'store_id', 'state_id', 'd',\n",
       "       'quantity sold', 'date', 'wm_yr_wk', 'weekday', 'wday', 'month', 'year',\n",
       "       'event_name_1', 'event_type_1', 'event_name_2', 'event_type_2',\n",
       "       'snap_CA', 'snap_TX', 'snap_WI', 'sell_price', 'day', 'if_weekend',\n",
       "       'if_month_season', 'if_christmas', 'id_label', 'item_id_label',\n",
       "       'dept_id_label', 'cat_id_label', 'store_id_label', 'state_id_label',\n",
       "       'event_name_1_label', 'event_type_1_label', 'event_name_2_label',\n",
       "       'event_type_2_label'],\n",
       "      dtype='object')"
      ]
     },
     "execution_count": 12,
     "metadata": {},
     "output_type": "execute_result"
    }
   ],
   "source": [
    "final.columns"
   ]
  },
  {
   "cell_type": "markdown",
   "id": "f539838a",
   "metadata": {},
   "source": [
    "### DataFrame Cleaning\n",
    "- As we have already encoded our categorical features, so we can drop old one\n",
    "- weekday as a feature can be removed as wday is already present\n",
    "- Date as a feature can also be removed as we have month and year column also present"
   ]
  },
  {
   "cell_type": "code",
   "execution_count": 13,
   "id": "c7e6a90d",
   "metadata": {},
   "outputs": [],
   "source": [
    "# features to be dropped\n",
    "\n",
    "unused_columns =['id','item_id','dept_id','cat_id','store_id','state_id','d','event_name_1','event_type_1','event_name_2','event_type_2','date','weekday']\n",
    "final_ = final.drop(unused_columns, axis=1)"
   ]
  },
  {
   "cell_type": "markdown",
   "id": "b685b821",
   "metadata": {},
   "source": [
    "## Data Splitting - train, CV, test"
   ]
  },
  {
   "cell_type": "markdown",
   "id": "73c6312d",
   "metadata": {},
   "source": [
    "##### We will split the data on time based:\n",
    "- Training : day 1400 - 1885\n",
    "- Validation : day 1886 - 1913 \n",
    "- Test : day 1914- 1941"
   ]
  },
  {
   "cell_type": "code",
   "execution_count": 14,
   "id": "d950ed27",
   "metadata": {},
   "outputs": [],
   "source": [
    "# Splitting data for independent variable (Predictors) based on days\n",
    "\n",
    "X_train = final_.loc[final_['day'] <=1885]\n",
    "X_CV = final_.loc[(final_['day']>1885) & (final_['day']<1914)]\n",
    "X_test = final_.loc[final_['day'] >=1914]\n",
    "\n",
    "# Splitting data for dependent varibale (Target) based on days\n",
    "\n",
    "Y_train = X_train['quantity sold']\n",
    "Y_CV = X_CV['quantity sold']\n",
    "Y_test = X_test['quantity sold']"
   ]
  },
  {
   "cell_type": "code",
   "execution_count": 15,
   "id": "9941b100",
   "metadata": {},
   "outputs": [
    {
     "name": "stderr",
     "output_type": "stream",
     "text": [
      "100%|██████████| 3/3 [00:00<00:00,  3.90it/s]\n"
     ]
    }
   ],
   "source": [
    "# dropping day column from the dependent vaiable\n",
    "\n",
    "X_variable = [X_train, X_CV, X_test]\n",
    "\n",
    "for var in tqdm(X_variable):\n",
    "    var = var.drop(columns = ['quantity sold'], axis=1, inplace = True)\n"
   ]
  },
  {
   "cell_type": "code",
   "execution_count": 16,
   "id": "072a3945",
   "metadata": {},
   "outputs": [
    {
     "name": "stdout",
     "output_type": "stream",
     "text": [
      "Shape of the Dependent Variable Splits are X_train: (14818140,), X_CV: (853720,), X_test: (853720,)\n"
     ]
    }
   ],
   "source": [
    "print(f\"Shape of the Dependent Variable Splits are X_train: {Y_train.shape}, X_CV: {Y_CV.shape}, X_test: {Y_test.shape}\")"
   ]
  },
  {
   "cell_type": "code",
   "execution_count": 17,
   "id": "76d62a5b",
   "metadata": {},
   "outputs": [
    {
     "data": {
      "text/plain": [
       "0    0\n",
       "1    0\n",
       "2    0\n",
       "3    3\n",
       "4    0\n",
       "Name: quantity sold, dtype: int16"
      ]
     },
     "execution_count": 17,
     "metadata": {},
     "output_type": "execute_result"
    }
   ],
   "source": [
    "Y_train.head(5)"
   ]
  },
  {
   "cell_type": "markdown",
   "id": "817d0fc4",
   "metadata": {},
   "source": [
    "### Metric Calculation Function"
   ]
  },
  {
   "cell_type": "code",
   "execution_count": 18,
   "id": "9950dbeb",
   "metadata": {},
   "outputs": [],
   "source": [
    "# Function for : RMSE\n",
    "\n",
    "def RMSE_calc(pred,actual):\n",
    "    '''\n",
    "    THis function is used to calculate: Root Mean Squared Error\n",
    "    '''\n",
    "    return np.sqrt(((pred-actual)**2).mean())\n"
   ]
  },
  {
   "cell_type": "markdown",
   "id": "6a845867",
   "metadata": {},
   "source": [
    "### First Cut Solution - No Feature Engineering/ No HyperParameter Tuning "
   ]
  },
  {
   "cell_type": "markdown",
   "id": "1564799e",
   "metadata": {},
   "source": [
    "###### a. Simple Linear Regression"
   ]
  },
  {
   "cell_type": "code",
   "execution_count": 99,
   "id": "e2af9d2f",
   "metadata": {},
   "outputs": [
    {
     "name": "stdout",
     "output_type": "stream",
     "text": [
      "Wall time: 16.1 s\n"
     ]
    },
    {
     "data": {
      "text/plain": [
       "LinearRegression(n_jobs=-1)"
      ]
     },
     "execution_count": 99,
     "metadata": {},
     "output_type": "execute_result"
    }
   ],
   "source": [
    "%%time \n",
    "\n",
    "model1 = LinearRegression(n_jobs = -1)\n",
    "model1.fit(X_train, Y_train)"
   ]
  },
  {
   "cell_type": "code",
   "execution_count": 100,
   "id": "0f7a854b",
   "metadata": {},
   "outputs": [
    {
     "name": "stdout",
     "output_type": "stream",
     "text": [
      "RMSE for validation data using Simple Linear regression: 3.536608\n"
     ]
    }
   ],
   "source": [
    "cv_predict = model1.predict(X_CV)\n",
    "RMSE_cv = RMSE_calc(Y_CV,cv_predict)\n",
    "print('RMSE for validation data using Simple Linear regression:',RMSE_cv)\n"
   ]
  },
  {
   "cell_type": "code",
   "execution_count": 101,
   "id": "af18d7e7",
   "metadata": {},
   "outputs": [
    {
     "name": "stdout",
     "output_type": "stream",
     "text": [
      "RMSE of test data using Linear regression with L1 regularization: 3.580427\n"
     ]
    }
   ],
   "source": [
    "test_predict = model1.predict(X_test)\n",
    "RMSE_test = RMSE_calc(Y_test,test_predict)\n",
    "print('RMSE of test data using Linear regression with L1 regularization:',RMSE_test)"
   ]
  },
  {
   "cell_type": "markdown",
   "id": "91e5f443",
   "metadata": {},
   "source": [
    "##### b. Linear Regression with L1 Regularization"
   ]
  },
  {
   "cell_type": "code",
   "execution_count": 102,
   "id": "2b1d121a",
   "metadata": {},
   "outputs": [
    {
     "name": "stdout",
     "output_type": "stream",
     "text": [
      "Wall time: 6min 8s\n"
     ]
    },
    {
     "data": {
      "text/plain": [
       "Lasso(alpha=0.1)"
      ]
     },
     "execution_count": 102,
     "metadata": {},
     "output_type": "execute_result"
    }
   ],
   "source": [
    "%%time \n",
    "\n",
    "model2 = linear_model.Lasso(alpha = 0.1)\n",
    "model2.fit(X_train,Y_train)"
   ]
  },
  {
   "cell_type": "code",
   "execution_count": 103,
   "id": "05bd5a0f",
   "metadata": {},
   "outputs": [
    {
     "name": "stdout",
     "output_type": "stream",
     "text": [
      "RMSE for validation data using Linear regression with L1 regularization: 3.5420496\n"
     ]
    }
   ],
   "source": [
    "cv_predict = model2.predict(X_CV)\n",
    "RMSE_cv = RMSE_calc(Y_CV,cv_predict)\n",
    "print('RMSE for validation data using Linear regression with L1 regularization:',RMSE_cv)"
   ]
  },
  {
   "cell_type": "code",
   "execution_count": 104,
   "id": "49001247",
   "metadata": {},
   "outputs": [
    {
     "name": "stdout",
     "output_type": "stream",
     "text": [
      "RMSE of test data using Linear regression with L1 regularization: 3.5848174\n"
     ]
    }
   ],
   "source": [
    "test_predict = model2.predict(X_test)\n",
    "RMSE_test = RMSE_calc(Y_test,test_predict)\n",
    "print('RMSE of test data using Linear regression with L1 regularization:',RMSE_test)"
   ]
  },
  {
   "cell_type": "markdown",
   "id": "ff8d06e8",
   "metadata": {},
   "source": [
    "##### c. Linear Regression with L2 Regularization"
   ]
  },
  {
   "cell_type": "code",
   "execution_count": 105,
   "id": "51fd281b",
   "metadata": {},
   "outputs": [
    {
     "name": "stdout",
     "output_type": "stream",
     "text": [
      "Wall time: 2.46 s\n"
     ]
    },
    {
     "data": {
      "text/plain": [
       "Ridge(alpha=0.1)"
      ]
     },
     "execution_count": 105,
     "metadata": {},
     "output_type": "execute_result"
    }
   ],
   "source": [
    "%%time \n",
    "\n",
    "model3 = linear_model.Ridge(alpha=0.1)\n",
    "model3.fit(X_train,Y_train)"
   ]
  },
  {
   "cell_type": "code",
   "execution_count": 106,
   "id": "7ab10c6c",
   "metadata": {},
   "outputs": [
    {
     "name": "stdout",
     "output_type": "stream",
     "text": [
      "RMSE for validation data using Linear regression with L2 regularization : 3.5365868\n"
     ]
    }
   ],
   "source": [
    "cv_predict = model3.predict(X_CV)\n",
    "RMSE_cv = RMSE_calc(Y_CV,cv_predict)\n",
    "print('RMSE for validation data using Linear regression with L2 regularization :',RMSE_cv)"
   ]
  },
  {
   "cell_type": "code",
   "execution_count": 107,
   "id": "bc24bea4",
   "metadata": {},
   "outputs": [
    {
     "name": "stdout",
     "output_type": "stream",
     "text": [
      "RMSE for test data using Linear regression with L2 regularization : 3.5806003\n"
     ]
    }
   ],
   "source": [
    "test_predict =model3.predict(X_test)\n",
    "RMSE_test = RMSE_calc(Y_test,test_predict)\n",
    "print('RMSE for test data using Linear regression with L2 regularization :',RMSE_test)"
   ]
  },
  {
   "cell_type": "markdown",
   "id": "69fcb7ec",
   "metadata": {},
   "source": [
    "#### d. DecisionTreeRegressor"
   ]
  },
  {
   "cell_type": "code",
   "execution_count": 108,
   "id": "42555e2d",
   "metadata": {},
   "outputs": [
    {
     "name": "stdout",
     "output_type": "stream",
     "text": [
      "Wall time: 2min 23s\n"
     ]
    },
    {
     "data": {
      "text/plain": [
       "DecisionTreeRegressor(random_state=0)"
      ]
     },
     "execution_count": 108,
     "metadata": {},
     "output_type": "execute_result"
    }
   ],
   "source": [
    "%%time \n",
    "\n",
    "model4= DecisionTreeRegressor(random_state=0)\n",
    "model4.fit(X_train,Y_train)"
   ]
  },
  {
   "cell_type": "code",
   "execution_count": 109,
   "id": "a297a3b3",
   "metadata": {},
   "outputs": [
    {
     "name": "stdout",
     "output_type": "stream",
     "text": [
      "RMSE for validation data using DecisionTree Regressor is: 3.09388726459688\n"
     ]
    }
   ],
   "source": [
    "cv_predict = model4.predict(X_CV)\n",
    "RMSE_cv = RMSE_calc(Y_CV,cv_predict)\n",
    "print('RMSE for validation data using DecisionTree Regressor is:',RMSE_cv)"
   ]
  },
  {
   "cell_type": "code",
   "execution_count": 110,
   "id": "6b3a84e7",
   "metadata": {},
   "outputs": [
    {
     "name": "stdout",
     "output_type": "stream",
     "text": [
      "RMSE for test data using DicisionTree Regressor: 3.2821219736274387\n"
     ]
    }
   ],
   "source": [
    "test_predict =model4.predict(X_test)\n",
    "RMSE_test = RMSE_calc(Y_test,test_predict)\n",
    "print('RMSE for test data using DicisionTree Regressor:',RMSE_test)"
   ]
  },
  {
   "cell_type": "markdown",
   "id": "deebf6af",
   "metadata": {},
   "source": [
    "#### e. LightGBMRegressor"
   ]
  },
  {
   "cell_type": "code",
   "execution_count": 111,
   "id": "bfc27187",
   "metadata": {},
   "outputs": [
    {
     "name": "stdout",
     "output_type": "stream",
     "text": [
      "Wall time: 32.4 s\n"
     ]
    },
    {
     "data": {
      "text/plain": [
       "LGBMRegressor()"
      ]
     },
     "execution_count": 111,
     "metadata": {},
     "output_type": "execute_result"
    }
   ],
   "source": [
    "%%time \n",
    "\n",
    "model5 = LGBMRegressor(n_jobs=- 1)\n",
    "model5.fit(X_train,Y_train)"
   ]
  },
  {
   "cell_type": "code",
   "execution_count": 112,
   "id": "b2fb14ee",
   "metadata": {},
   "outputs": [
    {
     "name": "stdout",
     "output_type": "stream",
     "text": [
      "RMSE for validation data using LGBM Regressor is: 2.797847521523142\n"
     ]
    }
   ],
   "source": [
    "cv_predict = model5.predict(X_CV)\n",
    "RMSE_cv = RMSE_calc(Y_CV,cv_predict)\n",
    "print('RMSE for validation data using LGBM Regressor is:',RMSE_cv)"
   ]
  },
  {
   "cell_type": "code",
   "execution_count": 113,
   "id": "7971aa68",
   "metadata": {},
   "outputs": [
    {
     "name": "stdout",
     "output_type": "stream",
     "text": [
      "RMSE for test data using LGBM Regressor is: 2.8360141322390047\n"
     ]
    }
   ],
   "source": [
    "test_predict =model5.predict(X_test)\n",
    "RMSE_test = RMSE_calc(Y_test,test_predict)\n",
    "print('RMSE for test data using LGBM Regressor is:',RMSE_test)"
   ]
  },
  {
   "cell_type": "markdown",
   "id": "4b018cab",
   "metadata": {},
   "source": [
    "### Using StandardScalar - On Independent Variables"
   ]
  },
  {
   "cell_type": "code",
   "execution_count": 114,
   "id": "82d8f4fb",
   "metadata": {},
   "outputs": [],
   "source": [
    "ss = StandardScaler()\n",
    "X_train_scaled = ss.fit_transform(X_train)\n",
    "X_cv_scaled = ss.transform(X_CV)\n",
    "X_test_scaled = ss.transform(X_test)"
   ]
  },
  {
   "cell_type": "markdown",
   "id": "633bb61b",
   "metadata": {},
   "source": [
    "#### Simple Linear Regression"
   ]
  },
  {
   "cell_type": "code",
   "execution_count": 134,
   "id": "c1c9a136",
   "metadata": {},
   "outputs": [
    {
     "name": "stdout",
     "output_type": "stream",
     "text": [
      "Wall time: 5.55 s\n"
     ]
    },
    {
     "data": {
      "text/plain": [
       "LinearRegression(n_jobs=-1)"
      ]
     },
     "execution_count": 134,
     "metadata": {},
     "output_type": "execute_result"
    }
   ],
   "source": [
    "%%time \n",
    "\n",
    "model1.fit(X_train_scaled, Y_train)"
   ]
  },
  {
   "cell_type": "code",
   "execution_count": 135,
   "id": "6b651550",
   "metadata": {},
   "outputs": [
    {
     "name": "stdout",
     "output_type": "stream",
     "text": [
      "RMSE for Scaled validation data using Simple Linear regression: 3.5365963\n"
     ]
    }
   ],
   "source": [
    "cv_predict = model1.predict(X_cv_scaled)\n",
    "RMSE_cv = RMSE_calc(Y_CV,cv_predict)\n",
    "print('RMSE for Scaled validation data using Simple Linear regression:',RMSE_cv)"
   ]
  },
  {
   "cell_type": "code",
   "execution_count": 136,
   "id": "a7bf99fb",
   "metadata": {},
   "outputs": [
    {
     "name": "stdout",
     "output_type": "stream",
     "text": [
      "RMSE for Scaled test data using Simple Linear regression: 3.5803967\n"
     ]
    }
   ],
   "source": [
    "test_predict =model1.predict(X_test_scaled)\n",
    "RMSE_test = RMSE_calc(Y_test,test_predict)\n",
    "print('RMSE for Scaled test data using Simple Linear regression:',RMSE_test)"
   ]
  },
  {
   "cell_type": "markdown",
   "id": "34fb7f79",
   "metadata": {},
   "source": [
    "####  Linear Regression with L1 Regularization"
   ]
  },
  {
   "cell_type": "code",
   "execution_count": 137,
   "id": "c0fbe559",
   "metadata": {},
   "outputs": [
    {
     "data": {
      "text/plain": [
       "Lasso(alpha=0.1)"
      ]
     },
     "execution_count": 137,
     "metadata": {},
     "output_type": "execute_result"
    }
   ],
   "source": [
    "model2.fit(X_train_scaled,Y_train)"
   ]
  },
  {
   "cell_type": "code",
   "execution_count": 138,
   "id": "c2309141",
   "metadata": {},
   "outputs": [
    {
     "name": "stdout",
     "output_type": "stream",
     "text": [
      "RMSE for Scaled validation data using Simple Linear regression with L1 regularization: 3.546668\n"
     ]
    }
   ],
   "source": [
    "cv_predict = model2.predict(X_cv_scaled)\n",
    "RMSE_cv = RMSE_calc(Y_CV,cv_predict)\n",
    "print('RMSE for Scaled validation data using Simple Linear regression with L1 regularization:',RMSE_cv)"
   ]
  },
  {
   "cell_type": "code",
   "execution_count": 140,
   "id": "ebb49156",
   "metadata": {},
   "outputs": [
    {
     "name": "stdout",
     "output_type": "stream",
     "text": [
      "RMSE for Scaled test data using Simple Linear regression with L1 regularization: 3.5928266\n"
     ]
    }
   ],
   "source": [
    "test_predict =model2.predict(X_test_scaled)\n",
    "RMSE_test = RMSE_calc(Y_test,test_predict)\n",
    "print('RMSE for Scaled test data using Simple Linear regression with L1 regularization:',RMSE_test)"
   ]
  },
  {
   "cell_type": "markdown",
   "id": "b78ae6e8",
   "metadata": {},
   "source": [
    "#### Linear Regression with L2 Regularization"
   ]
  },
  {
   "cell_type": "code",
   "execution_count": 121,
   "id": "803031d8",
   "metadata": {},
   "outputs": [
    {
     "data": {
      "text/plain": [
       "Ridge(alpha=0.1)"
      ]
     },
     "execution_count": 121,
     "metadata": {},
     "output_type": "execute_result"
    }
   ],
   "source": [
    "model3.fit(X_train_scaled,Y_train)"
   ]
  },
  {
   "cell_type": "code",
   "execution_count": 122,
   "id": "30c918f0",
   "metadata": {},
   "outputs": [
    {
     "name": "stdout",
     "output_type": "stream",
     "text": [
      "RMSE for Scaled validation data using Simple Linear regression with L2 regularization: 3.5366046\n"
     ]
    }
   ],
   "source": [
    "cv_predict = model3.predict(X_cv_scaled)\n",
    "RMSE_cv = RMSE_calc(Y_CV,cv_predict)\n",
    "print('RMSE for Scaled validation data using Simple Linear regression with L2 regularization:',RMSE_cv)"
   ]
  },
  {
   "cell_type": "code",
   "execution_count": 141,
   "id": "1cea07f0",
   "metadata": {},
   "outputs": [
    {
     "name": "stdout",
     "output_type": "stream",
     "text": [
      "RMSE for Scaled test data using Simple Linear regression with L2 regularization: 3.580418\n"
     ]
    }
   ],
   "source": [
    "test_predict =model3.predict(X_test_scaled)\n",
    "RMSE_test = RMSE_calc(Y_test,test_predict)\n",
    "print('RMSE for Scaled test data using Simple Linear regression with L2 regularization:',RMSE_test)"
   ]
  },
  {
   "cell_type": "markdown",
   "id": "29ac17fa",
   "metadata": {},
   "source": [
    "#### DecisionTreeRegressor"
   ]
  },
  {
   "cell_type": "code",
   "execution_count": 124,
   "id": "14114f89",
   "metadata": {},
   "outputs": [
    {
     "data": {
      "text/plain": [
       "DecisionTreeRegressor(random_state=0)"
      ]
     },
     "execution_count": 124,
     "metadata": {},
     "output_type": "execute_result"
    }
   ],
   "source": [
    "model4.fit(X_train_scaled,Y_train)"
   ]
  },
  {
   "cell_type": "code",
   "execution_count": 125,
   "id": "ce08b6f1",
   "metadata": {},
   "outputs": [
    {
     "name": "stdout",
     "output_type": "stream",
     "text": [
      "RMSE for Scaled validation data using DicisionTree Regressor: 3.1124010421839765\n"
     ]
    }
   ],
   "source": [
    "cv_predict = model4.predict(X_cv_scaled)\n",
    "RMSE_cv = RMSE_calc(Y_CV,cv_predict)\n",
    "print('RMSE for Scaled validation data using DicisionTree Regressor:',RMSE_cv)"
   ]
  },
  {
   "cell_type": "code",
   "execution_count": 142,
   "id": "fd0ae18d",
   "metadata": {},
   "outputs": [
    {
     "name": "stdout",
     "output_type": "stream",
     "text": [
      "RMSE for Scaled test data using DicisionTree Regressor: 3.2864545682685127\n"
     ]
    }
   ],
   "source": [
    "test_predict =model4.predict(X_test_scaled)\n",
    "RMSE_test = RMSE_calc(Y_test,test_predict)\n",
    "print('RMSE for Scaled test data using DicisionTree Regressor:',RMSE_test)"
   ]
  },
  {
   "cell_type": "markdown",
   "id": "c8b6ec84",
   "metadata": {},
   "source": [
    "#### LightGBMRegressor"
   ]
  },
  {
   "cell_type": "code",
   "execution_count": 127,
   "id": "dd958c6c",
   "metadata": {},
   "outputs": [
    {
     "data": {
      "text/plain": [
       "LGBMRegressor()"
      ]
     },
     "execution_count": 127,
     "metadata": {},
     "output_type": "execute_result"
    }
   ],
   "source": [
    "model5.fit(X_train_scaled,Y_train)"
   ]
  },
  {
   "cell_type": "code",
   "execution_count": 128,
   "id": "f14aa092",
   "metadata": {},
   "outputs": [
    {
     "name": "stdout",
     "output_type": "stream",
     "text": [
      "RMSE for Scaled validation data using Simple Linear regression with L2 regularization:: 2.7696777706782143\n"
     ]
    }
   ],
   "source": [
    "cv_predict = model5.predict(X_cv_scaled)\n",
    "RMSE_cv = RMSE_calc(Y_CV,cv_predict)\n",
    "print('RMSE for Scaled validation data using Simple Linear regression with L2 regularization::',RMSE_cv)"
   ]
  },
  {
   "cell_type": "code",
   "execution_count": 143,
   "id": "16dea290",
   "metadata": {},
   "outputs": [
    {
     "name": "stdout",
     "output_type": "stream",
     "text": [
      "RMSE for Scaled test data using Simple Linear regression with L2 regularization:: 2.8153165733559438\n"
     ]
    }
   ],
   "source": [
    "test_predict =model5.predict(X_test_scaled)\n",
    "RMSE_test = RMSE_calc(Y_test,test_predict)\n",
    "print('RMSE for Scaled test data using Simple Linear regression with L2 regularization::',RMSE_test)"
   ]
  },
  {
   "cell_type": "code",
   "execution_count": null,
   "id": "0e9afd33",
   "metadata": {},
   "outputs": [],
   "source": []
  },
  {
   "cell_type": "code",
   "execution_count": 6,
   "id": "93629673",
   "metadata": {},
   "outputs": [
    {
     "name": "stdout",
     "output_type": "stream",
     "text": [
      "+---------------------------------------+---------------------------+-------------------+-----------------------------+\n",
      "|             Technique Info            |           Model           | RMSE on Test Data | RMSE: After Standardization |\n",
      "+---------------------------------------+---------------------------+-------------------+-----------------------------+\n",
      "| Without FE & No Hyperparameter Tuning |                           |                   |                             |\n",
      "|                                       |                           |                   |                             |\n",
      "|   1. Using Date Based Features Only   |                           |                   |                             |\n",
      "|                  1.1                  |  Simple Linear Regresion  |       3.5804      |            3.5803           |\n",
      "|                  1.2                  | LR with L1 Regularization |       3.5848      |            3.5928           |\n",
      "|                  1.3                  | LR with L2 Regularization |       3.5806      |            3.5804           |\n",
      "|                  1.4                  |       Decision Tree       |       3.2821      |            3.2864           |\n",
      "|                  1.5                  |         Light GBM         |       2.8360      |            2.8153           |\n",
      "+---------------------------------------+---------------------------+-------------------+-----------------------------+\n"
     ]
    }
   ],
   "source": [
    "myTable = PrettyTable(['Technique Info', 'Model', 'RMSE on Test Data', 'RMSE: After Standardization'])\n",
    "\n",
    "# Adding rows\n",
    "\n",
    "myTable.add_row(['Without FE & No Hyperparameter Tuning',' ',' ',' '])\n",
    "myTable.add_row([' ',' ',' ',' '])\n",
    "myTable.add_row(['1. Using Date Based Features Only',' ', ' ', ' '])\n",
    "myTable.add_row(['1.1','Simple Linear Regresion','3.5804','3.5803'])\n",
    "myTable.add_row(['1.2','LR with L1 Regularization','3.5848','3.5928'])\n",
    "myTable.add_row(['1.3','LR with L2 Regularization','3.5806','3.5804'])\n",
    "myTable.add_row(['1.4','Decision Tree','3.2821','3.2864'])\n",
    "myTable.add_row(['1.5','Light GBM','2.8360','2.8153'])\n",
    "     \n",
    "\n",
    "print(myTable)"
   ]
  },
  {
   "cell_type": "markdown",
   "id": "a0303c54",
   "metadata": {},
   "source": [
    "#### Key Observations:\n",
    "- Without Hyperparameter tuning and any feature engineering the RMSE score is very high\n",
    "- No major impact on RMSE score after standardizing the data\n",
    "- LightGBM model performed well comparitively\n",
    "- So now our task would be to come up with some meaningful features using feature engineering techniques and optimize our models which can help us to improve our RMSE score."
   ]
  },
  {
   "cell_type": "code",
   "execution_count": null,
   "id": "b1ab9503",
   "metadata": {},
   "outputs": [],
   "source": []
  }
 ],
 "metadata": {
  "kernelspec": {
   "display_name": "Python 3 (ipykernel)",
   "language": "python",
   "name": "python3"
  },
  "language_info": {
   "codemirror_mode": {
    "name": "ipython",
    "version": 3
   },
   "file_extension": ".py",
   "mimetype": "text/x-python",
   "name": "python",
   "nbconvert_exporter": "python",
   "pygments_lexer": "ipython3",
   "version": "3.8.8"
  }
 },
 "nbformat": 4,
 "nbformat_minor": 5
}
